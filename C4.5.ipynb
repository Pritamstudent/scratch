{
 "cells": [
  {
   "cell_type": "code",
   "execution_count": 1,
   "id": "02b02e05",
   "metadata": {},
   "outputs": [],
   "source": [
    "import pandas as pd\n",
    "import numpy as np\n",
    "eps = np.finfo(float).eps\n",
    "from numpy import log2 as log"
   ]
  },
  {
   "cell_type": "code",
   "execution_count": 2,
   "id": "92c04d17",
   "metadata": {},
   "outputs": [],
   "source": [
    "data = [\n",
    "    [\"Sunny\", \"Hot\", \"High\", \"Weak\", \"No\"],\n",
    "    [\"Sunny\", \"Hot\", \"High\", \"Strong\", \"No\"],\n",
    "    [\"Overcast\", \"Hot\", \"High\", \"Weak\", \"Yes\"],\n",
    "    [\"Rain\", \"Mild\", \"High\", \"Weak\", \"Yes\"],\n",
    "    [\"Rain\", \"Cool\", \"Normal\", \"Weak\", \"Yes\"],\n",
    "    [\"Rain\", \"Cool\", \"Normal\", \"Strong\", \"No\"],\n",
    "    [\"Overcast\", \"Cool\", \"Normal\", \"Strong\", \"Yes\"],\n",
    "    [\"Sunny\", \"Mild\", \"High\", \"Weak\", \"No\"],\n",
    "    [\"Sunny\", \"Cool\", \"Normal\", \"Weak\", \"Yes\"],\n",
    "    [\"Rain\", \"Mild\", \"Normal\", \"Weak\", \"Yes\"],\n",
    "    [\"Sunny\", \"Mild\", \"Normal\", \"Strong\", \"Yes\"],\n",
    "    [\"Overcast\", \"Mild\", \"High\", \"Strong\", \"Yes\"],\n",
    "    [\"Overcast\", \"Hot\", \"Normal\", \"Weak\", \"Yes\"],\n",
    "    [\"Rain\", \"Mild\", \"High\", \"Strong\", \"No\"]\n",
    "]\n",
    "\n",
    "columns = [\"Outlook\", \"Temperature\", \"Humidity\", \"Wind\", \"play\"]"
   ]
  },
  {
   "cell_type": "code",
   "execution_count": 3,
   "id": "8392c6d3",
   "metadata": {},
   "outputs": [
    {
     "name": "stdout",
     "output_type": "stream",
     "text": [
      "     Outlook Temperature Humidity    Wind play\n",
      "0      Sunny         Hot     High    Weak   No\n",
      "1      Sunny         Hot     High  Strong   No\n",
      "2   Overcast         Hot     High    Weak  Yes\n",
      "3       Rain        Mild     High    Weak  Yes\n",
      "4       Rain        Cool   Normal    Weak  Yes\n",
      "5       Rain        Cool   Normal  Strong   No\n",
      "6   Overcast        Cool   Normal  Strong  Yes\n",
      "7      Sunny        Mild     High    Weak   No\n",
      "8      Sunny        Cool   Normal    Weak  Yes\n",
      "9       Rain        Mild   Normal    Weak  Yes\n",
      "10     Sunny        Mild   Normal  Strong  Yes\n",
      "11  Overcast        Mild     High  Strong  Yes\n",
      "12  Overcast         Hot   Normal    Weak  Yes\n",
      "13      Rain        Mild     High  Strong   No\n"
     ]
    }
   ],
   "source": [
    "df = pd.DataFrame(data, columns=columns)\n",
    "print(df)"
   ]
  },
  {
   "cell_type": "code",
   "execution_count": 4,
   "id": "2a8e9856",
   "metadata": {},
   "outputs": [],
   "source": [
    "def find_entropy(df):\n",
    "    Class = df.keys()[-1]\n",
    "    entropy = 0\n",
    "    values = df[Class].unique()\n",
    "    for value in values:\n",
    "        fraction = df[Class].value_counts()[value] / len(df[Class])\n",
    "        entropy += -fraction * np.log2(fraction)\n",
    "    return entropy\n",
    "\n",
    "def find_entropy_attribute(df, attribute):\n",
    "    Class = df.keys()[-1]\n",
    "    target_variables = df[Class].unique()\n",
    "    variables = df[attribute].unique()\n",
    "    entropy2 = 0\n",
    "    for variable in variables:\n",
    "        entropy = 0\n",
    "        for target_variable in target_variables:\n",
    "            num = len(df[attribute][df[attribute] == variable][df[Class] == target_variable])\n",
    "            den = len(df[attribute][df[attribute] == variable])\n",
    "            fraction = num / (den + eps)\n",
    "            entropy += -fraction * log(fraction + eps)\n",
    "        fraction2 = den / len(df)\n",
    "        entropy2 += -fraction2 * entropy\n",
    "    return abs(entropy2)\n",
    "\n",
    "\n",
    "\n",
    "def find_split_info(df, attribute):\n",
    "    Class = df.keys()[-1]\n",
    "    variables = df[attribute].unique()\n",
    "    split_info = 0\n",
    "    for variable in variables:\n",
    "        num = len(df[attribute][df[attribute] == variable])\n",
    "        den = len(df[attribute])\n",
    "        fraction = num / den\n",
    "        split_info += -fraction * log(fraction)\n",
    "    return split_info\n",
    "\n",
    "\n",
    "\n",
    "def find_parent(df):\n",
    "    information_gain_ratio = []\n",
    "    for key in df.keys()[:-1]:\n",
    "        information_gain = find_entropy(df) - find_entropy_attribute(df, key)\n",
    "        split_info = find_split_info(df,key)\n",
    "        if split_info==0:\n",
    "            information_gain_ratio.append(0)\n",
    "        else:\n",
    "            information_gain_ratio.append(information_gain/(split_info ))\n",
    "        \n",
    "    return df.keys()[:-1][np.argmax(information_gain_ratio)]\n",
    "\n",
    "def get_subtable(df, node, value):\n",
    "    return df[df[node] == value].reset_index(drop=True)\n",
    "\n",
    "def buildTree(df, tree=None):\n",
    "    Class = df.keys()[-1]\n",
    "    node = find_parent(df)\n",
    "    attValue = np.unique(df[node])\n",
    "    if tree is None:\n",
    "        tree = {}\n",
    "        tree[node] = {}\n",
    "    for value in attValue:\n",
    "        subtable = get_subtable(df, node, value)\n",
    "        clValue, counts = np.unique(subtable[Class], return_counts=True)\n",
    "        if len(counts) == 1:\n",
    "            tree[node][value] = clValue[0]\n",
    "        else:\n",
    "            tree[node][value] = buildTree(subtable)\n",
    "    return tree\n",
    "\n",
    "\n",
    "\n",
    "def predict(test, tree, default=None):\n",
    "    attribute = next(iter(tree))\n",
    "    if test[attribute] in tree[attribute].keys():\n",
    "        result = tree[attribute][test[attribute]]\n",
    "        if isinstance(result, dict):\n",
    "            return predict(test, result)\n",
    "        else:\n",
    "            return result\n",
    "    else:\n",
    "        return default\n",
    "\n"
   ]
  },
  {
   "cell_type": "code",
   "execution_count": 5,
   "id": "47387ff9",
   "metadata": {},
   "outputs": [],
   "source": [
    "tree = buildTree(df)"
   ]
  },
  {
   "cell_type": "code",
   "execution_count": 6,
   "id": "1392d7d9",
   "metadata": {},
   "outputs": [
    {
     "name": "stdout",
     "output_type": "stream",
     "text": [
      "{'Outlook': {'Overcast': 'Yes',\n",
      "             'Rain': {'Wind': {'Strong': 'No', 'Weak': 'Yes'}},\n",
      "             'Sunny': {'Humidity': {'High': 'No', 'Normal': 'Yes'}}}}\n"
     ]
    }
   ],
   "source": [
    "import pprint\n",
    "pprint.pprint(tree)"
   ]
  },
  {
   "cell_type": "code",
   "execution_count": 7,
   "id": "2f98725d",
   "metadata": {},
   "outputs": [
    {
     "name": "stdout",
     "output_type": "stream",
     "text": [
      "No\n"
     ]
    }
   ],
   "source": [
    "test = {'Outlook': 'Sunny', 'Temperature': 'Hot', 'Humidity': 'High', 'Wind': 'Weak'}\n",
    "prediction = predict(test, tree)\n",
    "print(prediction)\n"
   ]
  },
  {
   "cell_type": "code",
   "execution_count": 8,
   "id": "bfde3184",
   "metadata": {},
   "outputs": [
    {
     "name": "stdout",
     "output_type": "stream",
     "text": [
      "   a1 a2 a3 a4 Class\n",
      "0   x  u  n  e     +\n",
      "1   x  u  p  f     +\n",
      "2   x  u  n  g     +\n",
      "3   y  u  n  e     +\n",
      "4   y  v  n  f     -\n",
      "5   x  v  n  e     +\n",
      "6   x  u  p  e     -\n",
      "7   y  v  m  f     +\n",
      "8   x  u  n  f     +\n",
      "9   x  w  p  f     +\n",
      "10  y  w  n  f     -\n",
      "11  x  w  n  g     +\n"
     ]
    }
   ],
   "source": [
    "import pandas as pd\n",
    "\n",
    "# Define the data\n",
    "data = {\n",
    "    'a1': ['x', 'x', 'x', 'y', 'y', 'x', 'x', 'y', 'x', 'x', 'y', 'x'],\n",
    "    'a2': ['u', 'u', 'u', 'u', 'v', 'v', 'u', 'v', 'u', 'w', 'w', 'w'],\n",
    "    'a3': ['n', 'p', 'n', 'n', 'n', 'n', 'p', 'm', 'n', 'p', 'n', 'n'],\n",
    "    'a4': ['e', 'f', 'g', 'e', 'f', 'e', 'e', 'f', 'f', 'f', 'f', 'g'],\n",
    "    'Class': ['+', '+', '+', '+', '-', '+', '-', '+', '+', '+', '-', '+']\n",
    "}\n",
    "\n",
    "# Create DataFrame\n",
    "df = pd.DataFrame(data)\n",
    "\n",
    "# Display DataFrame\n",
    "print(df)\n"
   ]
  },
  {
   "cell_type": "code",
   "execution_count": 9,
   "id": "16bca47c",
   "metadata": {},
   "outputs": [],
   "source": [
    "tree = buildTree(df)"
   ]
  },
  {
   "cell_type": "code",
   "execution_count": 10,
   "id": "8fa0514d",
   "metadata": {},
   "outputs": [
    {
     "name": "stdout",
     "output_type": "stream",
     "text": [
      "{'a1': {'x': {'a3': {'n': '+', 'p': {'a4': {'e': '-', 'f': '+'}}}},\n",
      "        'y': {'a3': {'m': '+', 'n': {'a4': {'e': '+', 'f': '-'}}}}}}\n"
     ]
    }
   ],
   "source": [
    "import pprint\n",
    "pprint.pprint(tree)"
   ]
  },
  {
   "cell_type": "code",
   "execution_count": 11,
   "id": "beb97d2c",
   "metadata": {},
   "outputs": [
    {
     "name": "stdout",
     "output_type": "stream",
     "text": [
      "    Day   Outlook  Temperature (oF)  Humidity (%)    Wind PlayTennis\n",
      "0    D1     Sunny                85            85    Weak         No\n",
      "1    D2     Sunny                80            90  Strong         No\n",
      "2    D3  Overcast                83            86    Weak        Yes\n",
      "3    D4      Rain                70            96    Weak        Yes\n",
      "4    D5      Rain                68            80    Weak        Yes\n",
      "5    D6      Rain                65            70  Strong         No\n",
      "6    D7  Overcast                64            65  Strong        Yes\n",
      "7    D8     Sunny                72            95    Weak         No\n",
      "8    D9     Sunny                69            70    Weak        Yes\n",
      "9   D10      Rain                75            80    Weak        Yes\n",
      "10  D11     Sunny                75            70  Strong        Yes\n",
      "11  D12  Overcast                72            90  Strong        Yes\n",
      "12  D13  Overcast                81            75    Weak        Yes\n",
      "13  D14      Rain                71            91  Strong         No\n"
     ]
    }
   ],
   "source": [
    "import pandas as pd\n",
    "\n",
    "# Define the data\n",
    "data = {\n",
    "    'Day': [f'D{i}' for i in range(1, 15)],\n",
    "    'Outlook': ['Sunny', 'Sunny', 'Overcast', 'Rain', 'Rain', 'Rain', 'Overcast', 'Sunny', 'Sunny', 'Rain', 'Sunny', 'Overcast', 'Overcast', 'Rain'],\n",
    "    'Temperature (oF)': [85, 80, 83, 70, 68, 65, 64, 72, 69, 75, 75, 72, 81, 71],\n",
    "    'Humidity (%)': [85, 90, 86, 96, 80, 70, 65, 95, 70, 80, 70, 90, 75, 91],\n",
    "    'Wind': ['Weak', 'Strong', 'Weak', 'Weak', 'Weak', 'Strong', 'Strong', 'Weak', 'Weak', 'Weak', 'Strong', 'Strong', 'Weak', 'Strong'],\n",
    "    'PlayTennis': ['No', 'No', 'Yes', 'Yes', 'Yes', 'No', 'Yes', 'No', 'Yes', 'Yes', 'Yes', 'Yes', 'Yes', 'No']\n",
    "}\n",
    "\n",
    "# Create DataFrame\n",
    "df = pd.DataFrame(data)\n",
    "\n",
    "# Display DataFrame\n",
    "print(df)\n"
   ]
  },
  {
   "cell_type": "code",
   "execution_count": 12,
   "id": "d47f0997",
   "metadata": {},
   "outputs": [],
   "source": [
    "tree = buildTree(df)"
   ]
  },
  {
   "cell_type": "code",
   "execution_count": 13,
   "id": "f4678b16",
   "metadata": {},
   "outputs": [
    {
     "name": "stdout",
     "output_type": "stream",
     "text": [
      "{'Day': {'D1': 'No',\n",
      "         'D10': 'Yes',\n",
      "         'D11': 'Yes',\n",
      "         'D12': 'Yes',\n",
      "         'D13': 'Yes',\n",
      "         'D14': 'No',\n",
      "         'D2': 'No',\n",
      "         'D3': 'Yes',\n",
      "         'D4': 'Yes',\n",
      "         'D5': 'Yes',\n",
      "         'D6': 'No',\n",
      "         'D7': 'Yes',\n",
      "         'D8': 'No',\n",
      "         'D9': 'Yes'}}\n"
     ]
    }
   ],
   "source": [
    "pprint.pprint(tree)"
   ]
  },
  {
   "cell_type": "code",
   "execution_count": 14,
   "id": "85689ea4",
   "metadata": {},
   "outputs": [
    {
     "name": "stdout",
     "output_type": "stream",
     "text": [
      "Classification Report:\n",
      "              precision    recall  f1-score   support\n",
      "\n",
      "          No       1.00      1.00      1.00         5\n",
      "         Yes       1.00      1.00      1.00         9\n",
      "\n",
      "    accuracy                           1.00        14\n",
      "   macro avg       1.00      1.00      1.00        14\n",
      "weighted avg       1.00      1.00      1.00        14\n",
      "\n",
      "\n",
      "Confusion Matrix:\n",
      "[[5 0]\n",
      " [0 9]]\n"
     ]
    }
   ],
   "source": [
    "from sklearn.metrics import classification_report, confusion_matrix\n",
    "\n",
    "# Assuming you have already built your decision tree model 'tree' and have test data 'df_test'\n",
    "# Make predictions on the test data\n",
    "predictions = df.apply(lambda x: predict(x, tree), axis=1)\n",
    "\n",
    "# Extract true labels from test data\n",
    "true_labels = df['PlayTennis']\n",
    "\n",
    "# Print classification report\n",
    "print(\"Classification Report:\")\n",
    "print(classification_report(true_labels, predictions))\n",
    "\n",
    "# Print confusion matrix\n",
    "print(\"\\nConfusion Matrix:\")\n",
    "print(confusion_matrix(true_labels, predictions))\n"
   ]
  },
  {
   "cell_type": "code",
   "execution_count": null,
   "id": "6871e707",
   "metadata": {},
   "outputs": [],
   "source": []
  },
  {
   "cell_type": "code",
   "execution_count": 15,
   "id": "25641e53",
   "metadata": {},
   "outputs": [],
   "source": [
    "# import numpy as np\n",
    "# from numpy import log2 as log\n",
    "\n",
    "# class DecisionTreeC45:\n",
    "#     def __init__(self):\n",
    "#         self.tree = None\n",
    "#         self.eps = np.finfo(float).eps\n",
    "\n",
    "#     def find_entropy(self, df):\n",
    "#         Class = df.keys()[-1]\n",
    "#         entropy = 0\n",
    "#         values = df[Class].unique()\n",
    "#         for value in values:\n",
    "#             fraction = df[Class].value_counts()[value] / len(df[Class])\n",
    "#             entropy += -fraction * np.log2(fraction)\n",
    "#         return entropy\n",
    "\n",
    "#     def find_entropy_attribute(self, df, attribute):\n",
    "#         Class = df.keys()[-1]\n",
    "#         target_variables = df[Class].unique()\n",
    "#         variables = df[attribute].unique()\n",
    "#         entropy2 = 0\n",
    "#         for variable in variables:\n",
    "#             entropy = 0\n",
    "#             for target_variable in target_variables:\n",
    "#                 num = len(df[attribute][df[attribute] == variable][df[Class] == target_variable])\n",
    "#                 den = len(df[attribute][df[attribute] == variable])\n",
    "#                 fraction = num / (den + self.eps)\n",
    "#                 entropy += -fraction * log(fraction + self.eps)\n",
    "#             fraction2 = den / len(df)\n",
    "#             entropy2 += -fraction2 * entropy\n",
    "#         return abs(entropy2)\n",
    "\n",
    "#     def find_split_info(self, df, attribute):\n",
    "#         Class = df.keys()[-1]\n",
    "#         variables = df[attribute].unique()\n",
    "#         split_info = 0\n",
    "#         for variable in variables:\n",
    "#             num = len(df[attribute][df[attribute] == variable])\n",
    "#             den = len(df[attribute])\n",
    "#             fraction = num / den\n",
    "#             split_info += -fraction * log(fraction)\n",
    "#         return split_info\n",
    "\n",
    "#     def find_parent(self, df):\n",
    "#         information_gain_ratio = []\n",
    "#         for key in df.keys()[:-1]:\n",
    "#             information_gain = self.find_entropy(df) - self.find_entropy_attribute(df, key)\n",
    "#             split_info = self.find_split_info(df, key)\n",
    "#             if split_info == 0:\n",
    "#                 information_gain_ratio.append(0)\n",
    "#             else:\n",
    "#                 information_gain_ratio.append(information_gain / split_info)\n",
    "#         return df.keys()[:-1][np.argmax(information_gain_ratio)]\n",
    "\n",
    "#     def get_subtable(self, df, node, value):\n",
    "#         return df[df[node] == value].reset_index(drop=True)\n",
    "\n",
    "#     def build_tree(self, df, tree=None):\n",
    "#         Class = df.keys()[-1]\n",
    "#         node = self.find_parent(df)\n",
    "#         attValue = np.unique(df[node])\n",
    "#         if tree is None:\n",
    "#             tree = {}\n",
    "#             tree[node] = {}\n",
    "#         for value in attValue:\n",
    "#             subtable = self.get_subtable(df, node, value)\n",
    "#             clValue, counts = np.unique(subtable[Class], return_counts=True)\n",
    "#             if len(counts) == 1:\n",
    "#                 tree[node][value] = clValue[0]\n",
    "#             else:\n",
    "#                 tree[node][value] = self.build_tree(subtable)\n",
    "#         return tree\n",
    "\n",
    "#     def fit(self, df):\n",
    "#         self.tree = self.build_tree(df)\n",
    "\n",
    "#     def predict(self, test, tree,default=None):\n",
    "#         if self.tree is None:\n",
    "#             raise RuntimeError(\"The model has not been trained yet. Use the fit method to train the model.\")\n",
    "#         attribute = next(iter(self.tree))\n",
    "#         if test[attribute] in self.tree[attribute].keys():\n",
    "#             result = self.tree[attribute][test[attribute]]\n",
    "#             if isinstance(result, dict):\n",
    "#                 return self.predict(test, result)\n",
    "#             else:\n",
    "#                 return result\n",
    "#         else:\n",
    "#             return default\n"
   ]
  },
  {
   "cell_type": "code",
   "execution_count": 16,
   "id": "b8481cd6",
   "metadata": {},
   "outputs": [],
   "source": [
    "# t= DecisionTreeC45()\n",
    "# t.fit(df)"
   ]
  },
  {
   "cell_type": "code",
   "execution_count": 17,
   "id": "c099147e",
   "metadata": {},
   "outputs": [],
   "source": [
    "# t.predict(test, tree)"
   ]
  },
  {
   "cell_type": "code",
   "execution_count": null,
   "id": "43b6b607",
   "metadata": {},
   "outputs": [],
   "source": []
  },
  {
   "cell_type": "code",
   "execution_count": null,
   "id": "4bb13353",
   "metadata": {},
   "outputs": [],
   "source": []
  },
  {
   "cell_type": "code",
   "execution_count": null,
   "id": "3ab52d27",
   "metadata": {},
   "outputs": [],
   "source": []
  },
  {
   "cell_type": "code",
   "execution_count": null,
   "id": "2d88d700",
   "metadata": {},
   "outputs": [],
   "source": []
  },
  {
   "cell_type": "code",
   "execution_count": null,
   "id": "f43d2f2e",
   "metadata": {},
   "outputs": [],
   "source": []
  },
  {
   "cell_type": "code",
   "execution_count": null,
   "id": "2953d792",
   "metadata": {},
   "outputs": [],
   "source": []
  },
  {
   "cell_type": "code",
   "execution_count": null,
   "id": "0f4b9ea0",
   "metadata": {},
   "outputs": [],
   "source": []
  }
 ],
 "metadata": {
  "kernelspec": {
   "display_name": "Python 3 (ipykernel)",
   "language": "python",
   "name": "python3"
  },
  "language_info": {
   "codemirror_mode": {
    "name": "ipython",
    "version": 3
   },
   "file_extension": ".py",
   "mimetype": "text/x-python",
   "name": "python",
   "nbconvert_exporter": "python",
   "pygments_lexer": "ipython3",
   "version": "3.10.4"
  }
 },
 "nbformat": 4,
 "nbformat_minor": 5
}
